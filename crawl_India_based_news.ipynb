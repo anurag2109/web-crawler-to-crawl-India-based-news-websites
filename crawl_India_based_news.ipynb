{
  "nbformat": 4,
  "nbformat_minor": 0,
  "metadata": {
    "colab": {
      "provenance": []
    },
    "kernelspec": {
      "name": "python3",
      "display_name": "Python 3"
    },
    "language_info": {
      "name": "python"
    }
  },
  "cells": [
    {
      "cell_type": "code",
      "source": [
        "import nltk\n",
        "\n",
        "# download the VADER lexicon\n",
        "nltk.download('vader_lexicon')\n"
      ],
      "metadata": {
        "colab": {
          "base_uri": "https://localhost:8080/"
        },
        "id": "2nLG8T6hrbOJ",
        "outputId": "55134327-be96-4b59-ace4-fcfbcac402b0"
      },
      "execution_count": 143,
      "outputs": [
        {
          "output_type": "stream",
          "name": "stderr",
          "text": [
            "[nltk_data] Downloading package vader_lexicon to /root/nltk_data...\n",
            "[nltk_data]   Package vader_lexicon is already up-to-date!\n"
          ]
        },
        {
          "output_type": "execute_result",
          "data": {
            "text/plain": [
              "True"
            ]
          },
          "metadata": {},
          "execution_count": 143
        }
      ]
    },
    {
      "cell_type": "code",
      "execution_count": 144,
      "metadata": {
        "id": "v-6-A-JQYgOS"
      },
      "outputs": [],
      "source": [
        "import requests\n",
        "import json\n",
        "from bs4 import BeautifulSoup\n",
        "from nltk.sentiment.vader import SentimentIntensityAnalyzer"
      ]
    },
    {
      "cell_type": "code",
      "source": [
        "# list of company names to search for\n",
        "company_names = ['Tesla', 'Apple', 'Google', 'VMware', 'Opera', 'Renault', 'SpaceX', 'Microsoft', 'samsung', 'Amazon', 'Wipro']"
      ],
      "metadata": {
        "id": "kvEWg24Ojr2U"
      },
      "execution_count": 145,
      "outputs": []
    },
    {
      "cell_type": "code",
      "source": [
        "# get the Tech news page url\n",
        "TOI_tech_news_url = \"https://timesofindia.indiatimes.com/tech\"\n",
        "tech_new_link = BeautifulSoup(requests.get(TOI_tech_news_url).content, 'html.parser').find('div', {'class': '_1VsHa'}).find('a')['href']\n",
        "\n",
        "website = TOI_tech_news_url + tech_new_link"
      ],
      "metadata": {
        "id": "QKCFNRyCjcFu"
      },
      "execution_count": 146,
      "outputs": []
    },
    {
      "cell_type": "code",
      "source": [
        "# function to crawl the news websites and extract the relevant information\n",
        "def crawl_news():\n",
        "    articles = []\n",
        "    # Make a request to the website\n",
        "    response = requests.get(website)\n",
        "\n",
        "    # Define the list of company names to rank\n",
        "    company_names = ['Tesla', 'Apple', 'Google', 'SpaceX', 'Microsoft', 'Amazon', 'Wipro']\n",
        "\n",
        "    # Parse the HTML content using BeautifulSoup\n",
        "    soup = BeautifulSoup(response.content, 'html.parser')\n",
        "\n",
        "    # Find the section of the website that contains links to articles\n",
        "    ul = soup.find('ul', {'class': \"VdmSM\"})\n",
        "    li_lists  = ul.find_all('li')[1:-1]\n",
        "    page_links = [li.find('a') for li in li_lists]\n",
        "\n",
        "    \n",
        "    # Loop through each article link on the website\n",
        "    for page_link in page_links:\n",
        "        # Make a request to the page that contains the links to articles\n",
        "        techpage = requests.get(\"https://www.gadgetsnow.com/\"+page_link['href'])\n",
        "         # Parse the HTML content of the page that contains the links to articles using BeautifulSoup\n",
        "        techpage_soup = BeautifulSoup(techpage.content, 'html.parser')\n",
        "        # Find the div elements that contain links to articles\n",
        "        div_lists = techpage_soup.find('div', {'class': \"_3u858\"}).find_all('div', {'class': \"_3IvxE\"})\n",
        "        article_links = [div.find('a') for div in div_lists]\n",
        "        # Loop through each article link\n",
        "        for link in article_links:\n",
        "          # Make a request to the article link\n",
        "          article_responce = requests.get(link['href'])\n",
        "          article_soup = BeautifulSoup(article_responce.content, 'html.parser')\n",
        "          # Extract the article title and content\n",
        "          article_title = article_soup.find('title').get_text()\n",
        "          article_content = ''\n",
        "          for span in article_soup.find('div',{'class': '_3Aytd'}).find_all('span'):\n",
        "            article_content += span.get_text()\n",
        "          # Loop through each company name to determine if it is mentioned in the article content\n",
        "          for company in company_names:\n",
        "                if company in article_content:\n",
        "                    articles.append({'title': article_title, 'link': link['href'], 'content': article_content, 'company': company})\n",
        "    return articles\n"
      ],
      "metadata": {
        "id": "fbKAQhZ_QdRh"
      },
      "execution_count": 147,
      "outputs": []
    },
    {
      "cell_type": "code",
      "source": [
        "# function to rank the articles based on relevance and sentiment towards the company\n",
        "def rank_articles(articles):\n",
        "    sid = SentimentIntensityAnalyzer()\n",
        "    for article in articles:\n",
        "        score = 0\n",
        "        if article['company'] in article['title']:\n",
        "            score += 3\n",
        "        if article['company'] in article['content']:\n",
        "            sentiment = sid.polarity_scores(article['content'])\n",
        "            score += sentiment['compound']\n",
        "        article['score'] = score\n",
        "    ranked_articles = sorted(articles, key=lambda k: k['score'], reverse=True)\n",
        "    for article in ranked_articles:\n",
        "        if article['score'] >= 0:\n",
        "            article['sentiment'] = 'positive'\n",
        "        else:\n",
        "            article['sentiment'] = 'negative'\n",
        "    return ranked_articles"
      ],
      "metadata": {
        "id": "CT5sOARrpuuS"
      },
      "execution_count": 148,
      "outputs": []
    },
    {
      "cell_type": "code",
      "source": [
        "# call the functions and print the results\n",
        "articles = crawl_news()\n",
        "ranked_articles = rank_articles(articles)"
      ],
      "metadata": {
        "id": "hUa7dDMyQm9w"
      },
      "execution_count": 149,
      "outputs": []
    },
    {
      "cell_type": "code",
      "source": [
        "for article in ranked_articles:\n",
        "    x = {'Company': str(article['company']), 'Sentiment Analysis': str(article['sentiment']), 'Sentiment Score': str(article['score']), 'Title': str(article['title']), 'Article Link': str(article['link'])}\n",
        "    y = json.dumps(x)\n",
        "    print(y)"
      ],
      "metadata": {
        "colab": {
          "base_uri": "https://localhost:8080/"
        },
        "id": "QFo3i0i5p5AF",
        "outputId": "1f4bb316-b64c-4b47-d1ba-9b075b56a7d4"
      },
      "execution_count": 150,
      "outputs": [
        {
          "output_type": "stream",
          "name": "stdout",
          "text": [
            "{\"Company\": \"Google\", \"Sentiment Analysis\": \"positive\", \"Sentiment Score\": \"3.9886\", \"Title\": \"NetCore partners with Google Cloud for email and SMS API\", \"Article Link\": \"https://www.gadgetsnow.com/tech-news/netcore-partners-with-google-cloud-for-email-and-sms-api/articleshow/99792980.cms\"}\n",
            "{\"Company\": \"Google\", \"Sentiment Analysis\": \"positive\", \"Sentiment Score\": \"3.9884\", \"Title\": \"Google\\u2019s multi-billion dollar campus is on \\u2018hold\\u2019, here\\u2019s why\", \"Article Link\": \"https://www.gadgetsnow.com/tech-news/googles-multi-billion-dollar-campus-is-on-hold-heres-why/articleshow/99702307.cms\"}\n",
            "{\"Company\": \"Tesla\", \"Sentiment Analysis\": \"positive\", \"Sentiment Score\": \"3.9882999999999997\", \"Title\": \"tesla: Tesla encourages owners to give up 'unlimited free Supercharging for life'\", \"Article Link\": \"https://www.gadgetsnow.com/tech-news/tesla-encourages-owners-to-give-up-unlimited-free-supercharging-for-life/articleshow/99737150.cms\"}\n",
            "{\"Company\": \"Google\", \"Sentiment Analysis\": \"positive\", \"Sentiment Score\": \"3.9875\", \"Title\": \"Google is making Web app installation process better with its new user interface on mobile and desktop\", \"Article Link\": \"https://www.gadgetsnow.com/tech-news/google-is-making-web-app-installation-process-better-with-its-new-user-interface-on-mobile-and-desktop/articleshow/99765530.cms\"}\n",
            "{\"Company\": \"Google\", \"Sentiment Analysis\": \"positive\", \"Sentiment Score\": \"3.9848\", \"Title\": \"google: Google may be working on AI-powered cloud offerings\", \"Article Link\": \"https://www.gadgetsnow.com/tech-news/google-may-be-working-on-ai-powered-cloud-offerings/articleshow/99732624.cms\"}\n",
            "{\"Company\": \"Apple\", \"Sentiment Analysis\": \"positive\", \"Sentiment Score\": \"3.9717000000000002\", \"Title\": \"Apple Employees: Apple Store India staff: Educational qualifications, salaries and more details\", \"Article Link\": \"https://www.gadgetsnow.com/tech-news/apple-store-india-staff-educational-qualifications-salaries-and-more-details/articleshow/99703300.cms\"}\n",
            "{\"Company\": \"Google\", \"Sentiment Analysis\": \"positive\", \"Sentiment Score\": \"3.9652\", \"Title\": \"bard: Google Bard can now help write software code\", \"Article Link\": \"https://www.gadgetsnow.com/tech-news/google-bard-can-now-help-write-software-code/articleshow/99686718.cms\"}\n",
            "{\"Company\": \"Google\", \"Sentiment Analysis\": \"positive\", \"Sentiment Score\": \"3.9614000000000003\", \"Title\": \"google: 'Jagirdari' 30% tax: Indian gaming CEOs call out Google for Play Store payment rules\", \"Article Link\": \"https://www.gadgetsnow.com/tech-news/jagirdari-30-tax-indian-gaming-ceos-call-out-google-for-play-store-payment-rules/articleshow/99746676.cms\"}\n",
            "{\"Company\": \"Google\", \"Sentiment Analysis\": \"positive\", \"Sentiment Score\": \"3.9595000000000002\", \"Title\": \"Delhi HC issues notice on Google's appeal against order directing CCI to decide ADIF's pleas\", \"Article Link\": \"https://www.gadgetsnow.com/tech-news/delhi-hc-issues-notice-on-googles-appeal-against-order-directing-cci-to-decide-adifs-pleas/articleshow/99780558.cms\"}\n",
            "{\"Company\": \"Tesla\", \"Sentiment Analysis\": \"positive\", \"Sentiment Score\": \"3.9441\", \"Title\": \"Tesla raises 2023 spending forecast as it races to ramp up output\", \"Article Link\": \"https://www.gadgetsnow.com/tech-news/tesla-raises-2023-spending-forecast-as-it-races-to-ramp-up-output/articleshow/99746055.cms\"}\n",
            "{\"Company\": \"Google\", \"Sentiment Analysis\": \"positive\", \"Sentiment Score\": \"3.9359\", \"Title\": \"Google to use Samsung\\u2019s ISOCELL GN2 sensor in next Pixel smartphone\", \"Article Link\": \"https://www.gadgetsnow.com/tech-news/google-to-use-samsungs-isocell-gn2-sensor-in-next-pixel-smartphone/articleshow/99740331.cms\"}\n",
            "{\"Company\": \"Microsoft\", \"Sentiment Analysis\": \"positive\", \"Sentiment Score\": \"3.9208\", \"Title\": \"bing: Microsoft makes Bing chatbot better at math equations, here\\u2019s how\", \"Article Link\": \"https://www.gadgetsnow.com/tech-news/microsoft-makes-bing-chatbot-better-at-math-equations-heres-how/articleshow/99739813.cms\"}\n",
            "{\"Company\": \"SpaceX\", \"Sentiment Analysis\": \"positive\", \"Sentiment Score\": \"3.9135999999999997\", \"Title\": \"SpaceX wins approval to add fifth US rocket launch site\", \"Article Link\": \"https://www.gadgetsnow.com/tech-news/spacex-wins-approval-to-add-fifth-us-rocket-launch-site/articleshow/99745807.cms\"}\n",
            "{\"Company\": \"Google\", \"Sentiment Analysis\": \"positive\", \"Sentiment Score\": \"3.7579000000000002\", \"Title\": \"generative ai: AI-driven Microsoft Bing, startup You threaten Google's Search dominance\", \"Article Link\": \"https://www.gadgetsnow.com/tech-news/ai-driven-microsoft-bing-startup-you-threaten-googles-search-dominance/articleshow/99726281.cms\"}\n",
            "{\"Company\": \"Microsoft\", \"Sentiment Analysis\": \"positive\", \"Sentiment Score\": \"3.7579000000000002\", \"Title\": \"generative ai: AI-driven Microsoft Bing, startup You threaten Google's Search dominance\", \"Article Link\": \"https://www.gadgetsnow.com/tech-news/ai-driven-microsoft-bing-startup-you-threaten-googles-search-dominance/articleshow/99726281.cms\"}\n",
            "{\"Company\": \"Tesla\", \"Sentiment Analysis\": \"positive\", \"Sentiment Score\": \"3.4867\", \"Title\": \"tesla: Tesla wins Autopilot-related 2019 crash case in the US\", \"Article Link\": \"https://www.gadgetsnow.com/tech-news/tesla-wins-autopilot-related-2019-crash-case-in-the-us/articleshow/99703590.cms\"}\n",
            "{\"Company\": \"Tesla\", \"Sentiment Analysis\": \"positive\", \"Sentiment Score\": \"2.9719\", \"Title\": \"Renault seeks software architecture on par with Tesla by 2026\", \"Article Link\": \"https://www.gadgetsnow.com/tech-news/renault-seeks-software-architecture-on-par-with-tesla-by-2026/articleshow/99745911.cms\"}\n",
            "{\"Company\": \"Tesla\", \"Sentiment Analysis\": \"positive\", \"Sentiment Score\": \"2.0872\", \"Title\": \"US jury set to decide test case in Tesla Autopilot crash\", \"Article Link\": \"https://www.gadgetsnow.com/tech-news/us-jury-set-to-decide-test-case-in-tesla-autopilot-crash/articleshow/99666663.cms\"}\n",
            "{\"Company\": \"Tesla\", \"Sentiment Analysis\": \"positive\", \"Sentiment Score\": \"2.0629\", \"Title\": \"musk: Elon Musk loses $12.6 billion after chaos at SpaceX, Tesla, Twitter\", \"Article Link\": \"https://www.gadgetsnow.com/tech-news/elon-musk-lose-12-6-billion-after-chaos-at-spacex-tesla-twitter/articleshow/99703473.cms\"}\n",
            "{\"Company\": \"SpaceX\", \"Sentiment Analysis\": \"positive\", \"Sentiment Score\": \"2.0629\", \"Title\": \"musk: Elon Musk loses $12.6 billion after chaos at SpaceX, Tesla, Twitter\", \"Article Link\": \"https://www.gadgetsnow.com/tech-news/elon-musk-lose-12-6-billion-after-chaos-at-spacex-tesla-twitter/articleshow/99703473.cms\"}\n",
            "{\"Company\": \"SpaceX\", \"Sentiment Analysis\": \"positive\", \"Sentiment Score\": \"2.0555\", \"Title\": \"Launchpad upgrades imminent after SpaceX's rocket blast pummelled site\", \"Article Link\": \"https://www.gadgetsnow.com/tech-news/launchpad-upgrades-imminent-after-spacexs-rocket-blast-pummeled-site/articleshow/99765956.cms\"}\n",
            "{\"Company\": \"Apple\", \"Sentiment Analysis\": \"positive\", \"Sentiment Score\": \"2.0061\", \"Title\": \"Apple cannot ban links to outside App Store payments, US appeals court says\", \"Article Link\": \"https://www.gadgetsnow.com/tech-news/apple-cannot-ban-links-to-outside-app-store-payments-us-appeals-court-says/articleshow/99745605.cms\"}\n",
            "{\"Company\": \"Google\", \"Sentiment Analysis\": \"positive\", \"Sentiment Score\": \"0.9934\", \"Title\": \"Tech CEOs wax poetic on AI, big adds to sales will take time\", \"Article Link\": \"https://www.gadgetsnow.com/tech-news/tech-ceos-wax-poetic-on-ai-big-adds-to-sales-will-take-time/articleshow/99789427.cms\"}\n",
            "{\"Company\": \"Microsoft\", \"Sentiment Analysis\": \"positive\", \"Sentiment Score\": \"0.9934\", \"Title\": \"Tech CEOs wax poetic on AI, big adds to sales will take time\", \"Article Link\": \"https://www.gadgetsnow.com/tech-news/tech-ceos-wax-poetic-on-ai-big-adds-to-sales-will-take-time/articleshow/99789427.cms\"}\n",
            "{\"Company\": \"Amazon\", \"Sentiment Analysis\": \"positive\", \"Sentiment Score\": \"0.9934\", \"Title\": \"Tech CEOs wax poetic on AI, big adds to sales will take time\", \"Article Link\": \"https://www.gadgetsnow.com/tech-news/tech-ceos-wax-poetic-on-ai-big-adds-to-sales-will-take-time/articleshow/99789427.cms\"}\n",
            "{\"Company\": \"Google\", \"Sentiment Analysis\": \"positive\", \"Sentiment Score\": \"0.9931\", \"Title\": \"Tech CEOs wax poetic on AI, big adds to sales will take time\", \"Article Link\": \"https://www.gadgetsnow.com/tech-news/tech-ceos-wax-poetic-on-ai-big-adds-to-sales-will-take-time/articleshow/99773738.cms\"}\n",
            "{\"Company\": \"Microsoft\", \"Sentiment Analysis\": \"positive\", \"Sentiment Score\": \"0.9931\", \"Title\": \"Tech CEOs wax poetic on AI, big adds to sales will take time\", \"Article Link\": \"https://www.gadgetsnow.com/tech-news/tech-ceos-wax-poetic-on-ai-big-adds-to-sales-will-take-time/articleshow/99773738.cms\"}\n",
            "{\"Company\": \"Amazon\", \"Sentiment Analysis\": \"positive\", \"Sentiment Score\": \"0.9931\", \"Title\": \"Tech CEOs wax poetic on AI, big adds to sales will take time\", \"Article Link\": \"https://www.gadgetsnow.com/tech-news/tech-ceos-wax-poetic-on-ai-big-adds-to-sales-will-take-time/articleshow/99773738.cms\"}\n",
            "{\"Company\": \"Apple\", \"Sentiment Analysis\": \"positive\", \"Sentiment Score\": \"0.9911\", \"Title\": \"tech layoff profits: Tech investors focus on profits after layoffs; companies to highlight AI\", \"Article Link\": \"https://www.gadgetsnow.com/tech-news/tech-investors-focus-on-profits-after-layoffs-companies-to-highlight-ai/articleshow/99736901.cms\"}\n",
            "{\"Company\": \"Google\", \"Sentiment Analysis\": \"positive\", \"Sentiment Score\": \"0.9911\", \"Title\": \"tech layoff profits: Tech investors focus on profits after layoffs; companies to highlight AI\", \"Article Link\": \"https://www.gadgetsnow.com/tech-news/tech-investors-focus-on-profits-after-layoffs-companies-to-highlight-ai/articleshow/99736901.cms\"}\n",
            "{\"Company\": \"Microsoft\", \"Sentiment Analysis\": \"positive\", \"Sentiment Score\": \"0.9911\", \"Title\": \"tech layoff profits: Tech investors focus on profits after layoffs; companies to highlight AI\", \"Article Link\": \"https://www.gadgetsnow.com/tech-news/tech-investors-focus-on-profits-after-layoffs-companies-to-highlight-ai/articleshow/99736901.cms\"}\n",
            "{\"Company\": \"Amazon\", \"Sentiment Analysis\": \"positive\", \"Sentiment Score\": \"0.9911\", \"Title\": \"tech layoff profits: Tech investors focus on profits after layoffs; companies to highlight AI\", \"Article Link\": \"https://www.gadgetsnow.com/tech-news/tech-investors-focus-on-profits-after-layoffs-companies-to-highlight-ai/articleshow/99736901.cms\"}\n",
            "{\"Company\": \"Microsoft\", \"Sentiment Analysis\": \"positive\", \"Sentiment Score\": \"0.9848\", \"Title\": \"google: Google may be working on AI-powered cloud offerings\", \"Article Link\": \"https://www.gadgetsnow.com/tech-news/google-may-be-working-on-ai-powered-cloud-offerings/articleshow/99732624.cms\"}\n",
            "{\"Company\": \"Amazon\", \"Sentiment Analysis\": \"positive\", \"Sentiment Score\": \"0.9848\", \"Title\": \"google: Google may be working on AI-powered cloud offerings\", \"Article Link\": \"https://www.gadgetsnow.com/tech-news/google-may-be-working-on-ai-powered-cloud-offerings/articleshow/99732624.cms\"}\n",
            "{\"Company\": \"Amazon\", \"Sentiment Analysis\": \"positive\", \"Sentiment Score\": \"0.9788\", \"Title\": \"E-scooter: Zypp Electric to deploy 1 lakh e-scooters for Zomato by 2024\", \"Article Link\": \"https://www.gadgetsnow.com/tech-news/zypp-electric-to-deploy-1-lakh-e-scooters-for-zomato-by-2024/articleshow/99753006.cms\"}\n",
            "{\"Company\": \"Google\", \"Sentiment Analysis\": \"positive\", \"Sentiment Score\": \"0.9768\", \"Title\": \"musk: Musk's TruthGPT sparks buzz among Twitter influencers: Report\", \"Article Link\": \"https://www.gadgetsnow.com/tech-news/musks-truthgpt-sparks-buzz-among-twitter-influencers-report/articleshow/99737312.cms\"}\n",
            "{\"Company\": \"Microsoft\", \"Sentiment Analysis\": \"positive\", \"Sentiment Score\": \"0.9768\", \"Title\": \"musk: Musk's TruthGPT sparks buzz among Twitter influencers: Report\", \"Article Link\": \"https://www.gadgetsnow.com/tech-news/musks-truthgpt-sparks-buzz-among-twitter-influencers-report/articleshow/99737312.cms\"}\n",
            "{\"Company\": \"Google\", \"Sentiment Analysis\": \"positive\", \"Sentiment Score\": \"0.9714\", \"Title\": \"big tech: Britain to take on Big Tech with new legal powers\", \"Article Link\": \"https://www.gadgetsnow.com/tech-news/britain-to-take-on-big-tech-with-new-legal-powers/articleshow/99745675.cms\"}\n",
            "{\"Company\": \"Google\", \"Sentiment Analysis\": \"positive\", \"Sentiment Score\": \"0.9676\", \"Title\": \"chatgpt investigation: European consumer protection bodies urged to investigate ChatGPT, others\", \"Article Link\": \"https://www.gadgetsnow.com/tech-news/european-consumer-protection-bodies-urged-to-investigate-chatgpt-others/articleshow/99737159.cms\"}\n",
            "{\"Company\": \"Microsoft\", \"Sentiment Analysis\": \"positive\", \"Sentiment Score\": \"0.9676\", \"Title\": \"chatgpt investigation: European consumer protection bodies urged to investigate ChatGPT, others\", \"Article Link\": \"https://www.gadgetsnow.com/tech-news/european-consumer-protection-bodies-urged-to-investigate-chatgpt-others/articleshow/99737159.cms\"}\n",
            "{\"Company\": \"Amazon\", \"Sentiment Analysis\": \"positive\", \"Sentiment Score\": \"0.9676\", \"Title\": \"chatgpt investigation: European consumer protection bodies urged to investigate ChatGPT, others\", \"Article Link\": \"https://www.gadgetsnow.com/tech-news/european-consumer-protection-bodies-urged-to-investigate-chatgpt-others/articleshow/99737159.cms\"}\n",
            "{\"Company\": \"Microsoft\", \"Sentiment Analysis\": \"positive\", \"Sentiment Score\": \"0.9652\", \"Title\": \"bard: Google Bard can now help write software code\", \"Article Link\": \"https://www.gadgetsnow.com/tech-news/google-bard-can-now-help-write-software-code/articleshow/99686718.cms\"}\n",
            "{\"Company\": \"Apple\", \"Sentiment Analysis\": \"positive\", \"Sentiment Score\": \"0.9614\", \"Title\": \"google: 'Jagirdari' 30% tax: Indian gaming CEOs call out Google for Play Store payment rules\", \"Article Link\": \"https://www.gadgetsnow.com/tech-news/jagirdari-30-tax-indian-gaming-ceos-call-out-google-for-play-store-payment-rules/articleshow/99746676.cms\"}\n",
            "{\"Company\": \"Apple\", \"Sentiment Analysis\": \"positive\", \"Sentiment Score\": \"0.9566\", \"Title\": \"Startup e-commerce platform Temu expands to Europe\", \"Article Link\": \"https://www.gadgetsnow.com/tech-news/startup-e-commerce-platform-temu-expands-to-europe/articleshow/99760516.cms\"}\n",
            "{\"Company\": \"Google\", \"Sentiment Analysis\": \"positive\", \"Sentiment Score\": \"0.9566\", \"Title\": \"Startup e-commerce platform Temu expands to Europe\", \"Article Link\": \"https://www.gadgetsnow.com/tech-news/startup-e-commerce-platform-temu-expands-to-europe/articleshow/99760516.cms\"}\n",
            "{\"Company\": \"Google\", \"Sentiment Analysis\": \"positive\", \"Sentiment Score\": \"0.9349\", \"Title\": \"Opera announces One browser with AI features: All the details\", \"Article Link\": \"https://www.gadgetsnow.com/tech-news/opera-announces-one-browser-with-ai-features-all-the-details/articleshow/99763783.cms\"}\n",
            "{\"Company\": \"Google\", \"Sentiment Analysis\": \"positive\", \"Sentiment Score\": \"0.8908\", \"Title\": \"moon: Private Japanese lander loses communication during touchdown on Moon\", \"Article Link\": \"https://www.gadgetsnow.com/tech-news/private-japanese-lander-loses-communication-during-touchdown-on-moon/articleshow/99780500.cms\"}\n",
            "{\"Company\": \"SpaceX\", \"Sentiment Analysis\": \"positive\", \"Sentiment Score\": \"0.8908\", \"Title\": \"moon: Private Japanese lander loses communication during touchdown on Moon\", \"Article Link\": \"https://www.gadgetsnow.com/tech-news/private-japanese-lander-loses-communication-during-touchdown-on-moon/articleshow/99780500.cms\"}\n",
            "{\"Company\": \"SpaceX\", \"Sentiment Analysis\": \"positive\", \"Sentiment Score\": \"0.8779\", \"Title\": \"japan: Japan's ispace prepares for world's first commercial lunar landing\", \"Article Link\": \"https://www.gadgetsnow.com/tech-news/japans-ispace-prepares-for-worlds-first-commercial-lunar-landing/articleshow/99760218.cms\"}\n",
            "{\"Company\": \"Microsoft\", \"Sentiment Analysis\": \"positive\", \"Sentiment Score\": \"0.7543\", \"Title\": \"sap chatgpt: SAP to embed ChatGPT in products as quarterly revenue beats estimates\", \"Article Link\": \"https://www.gadgetsnow.com/tech-news/sap-to-embed-chatgpt-in-products-as-quarterly-revenue-beats-estimates/articleshow/99686841.cms\"}\n",
            "{\"Company\": \"Google\", \"Sentiment Analysis\": \"positive\", \"Sentiment Score\": \"0.5714\", \"Title\": \"YouTube case at US Supreme Court could shape protections for ChatGPT and AI\", \"Article Link\": \"https://www.gadgetsnow.com/tech-news/youtube-case-at-us-supreme-court-could-shape-protections-for-chatgpt-and-ai/articleshow/99745866.cms\"}\n",
            "{\"Company\": \"Microsoft\", \"Sentiment Analysis\": \"positive\", \"Sentiment Score\": \"0.5714\", \"Title\": \"YouTube case at US Supreme Court could shape protections for ChatGPT and AI\", \"Article Link\": \"https://www.gadgetsnow.com/tech-news/youtube-case-at-us-supreme-court-could-shape-protections-for-chatgpt-and-ai/articleshow/99745866.cms\"}\n",
            "{\"Company\": \"Google\", \"Sentiment Analysis\": \"positive\", \"Sentiment Score\": \"0.534\", \"Title\": \"supreme court: YouTube case at US Supreme Court could shape protections for ChatGPT and AI\", \"Article Link\": \"https://www.gadgetsnow.com/tech-news/youtube-case-at-us-supreme-court-could-shape-protections-for-chatgpt-and-ai/articleshow/99737042.cms\"}\n",
            "{\"Company\": \"Microsoft\", \"Sentiment Analysis\": \"positive\", \"Sentiment Score\": \"0.534\", \"Title\": \"supreme court: YouTube case at US Supreme Court could shape protections for ChatGPT and AI\", \"Article Link\": \"https://www.gadgetsnow.com/tech-news/youtube-case-at-us-supreme-court-could-shape-protections-for-chatgpt-and-ai/articleshow/99737042.cms\"}\n",
            "{\"Company\": \"Microsoft\", \"Sentiment Analysis\": \"positive\", \"Sentiment Score\": \"0.5106\", \"Title\": \"US: US policing AI at companies to make sure it doesn't violate civil rights\", \"Article Link\": \"https://www.gadgetsnow.com/tech-news/us-policing-ai-at-companies-to-make-sure-it-doesnt-violate-civil-rights/articleshow/99773963.cms\"}\n",
            "{\"Company\": \"Google\", \"Sentiment Analysis\": \"negative\", \"Sentiment Score\": \"-0.0281\", \"Title\": \"Renault seeks software architecture on par with Tesla by 2026\", \"Article Link\": \"https://www.gadgetsnow.com/tech-news/renault-seeks-software-architecture-on-par-with-tesla-by-2026/articleshow/99745911.cms\"}\n",
            "{\"Company\": \"Tesla\", \"Sentiment Analysis\": \"negative\", \"Sentiment Score\": \"-0.1926\", \"Title\": \"Technology: Tech earnings to test markets' 'most crowded' trade this week\", \"Article Link\": \"https://www.gadgetsnow.com/tech-news/tech-earnings-to-test-markets-most-crowded-trade-this-week/articleshow/99718169.cms\"}\n",
            "{\"Company\": \"Apple\", \"Sentiment Analysis\": \"negative\", \"Sentiment Score\": \"-0.1926\", \"Title\": \"Technology: Tech earnings to test markets' 'most crowded' trade this week\", \"Article Link\": \"https://www.gadgetsnow.com/tech-news/tech-earnings-to-test-markets-most-crowded-trade-this-week/articleshow/99718169.cms\"}\n",
            "{\"Company\": \"Microsoft\", \"Sentiment Analysis\": \"negative\", \"Sentiment Score\": \"-0.1926\", \"Title\": \"Technology: Tech earnings to test markets' 'most crowded' trade this week\", \"Article Link\": \"https://www.gadgetsnow.com/tech-news/tech-earnings-to-test-markets-most-crowded-trade-this-week/articleshow/99718169.cms\"}\n",
            "{\"Company\": \"Amazon\", \"Sentiment Analysis\": \"negative\", \"Sentiment Score\": \"-0.1926\", \"Title\": \"Technology: Tech earnings to test markets' 'most crowded' trade this week\", \"Article Link\": \"https://www.gadgetsnow.com/tech-news/tech-earnings-to-test-markets-most-crowded-trade-this-week/articleshow/99718169.cms\"}\n",
            "{\"Company\": \"SpaceX\", \"Sentiment Analysis\": \"negative\", \"Sentiment Score\": \"-0.6124\", \"Title\": \"Japan's ispace says moon lander unexpectedly accelerated and likely crashed\", \"Article Link\": \"https://www.gadgetsnow.com/tech-news/japans-ispace-says-moon-lander-unexpectedly-accelerated-and-likely-crashed/articleshow/99792880.cms\"}\n",
            "{\"Company\": \"Google\", \"Sentiment Analysis\": \"negative\", \"Sentiment Score\": \"-0.6705\", \"Title\": \"Alphabet CEO Pichai reaps over $200 million in 2022 amid cost-cutting\", \"Article Link\": \"https://www.gadgetsnow.com/tech-news/alphabet-ceo-pichai-reaps-over-200-million-in-2022-amid-cost-cutting/articleshow/99686782.cms\"}\n",
            "{\"Company\": \"Apple\", \"Sentiment Analysis\": \"negative\", \"Sentiment Score\": \"-0.8815\", \"Title\": \"Nokia says draft EU patent rules one-sided, will undermine Europe\", \"Article Link\": \"https://www.gadgetsnow.com/tech-news/nokia-says-draft-eu-patent-rules-one-sided-will-undermine-europe/articleshow/99773792.cms\"}\n",
            "{\"Company\": \"Microsoft\", \"Sentiment Analysis\": \"negative\", \"Sentiment Score\": \"-0.8815\", \"Title\": \"Nokia says draft EU patent rules one-sided, will undermine Europe\", \"Article Link\": \"https://www.gadgetsnow.com/tech-news/nokia-says-draft-eu-patent-rules-one-sided-will-undermine-europe/articleshow/99773792.cms\"}\n",
            "{\"Company\": \"Google\", \"Sentiment Analysis\": \"negative\", \"Sentiment Score\": \"-0.9648\", \"Title\": \"tiktok: Montana governor seeks to broaden bill that would ban TikTok to cover other social media platforms: Report\", \"Article Link\": \"https://www.gadgetsnow.com/tech-news/montana-governor-seeks-to-broaden-bill-that-would-ban-tiktok-to-cover-other-social-media-platforms-report/articleshow/99789555.cms\"}\n",
            "{\"Company\": \"Google\", \"Sentiment Analysis\": \"negative\", \"Sentiment Score\": \"-0.9867\", \"Title\": \"Irish data regulator has a \\u2018warning\\u2019 on AI chatbot regulations\", \"Article Link\": \"https://www.gadgetsnow.com/tech-news/irish-data-regulator-has-a-warning-on-ai-chatbot-regulations/articleshow/99673047.cms\"}\n"
          ]
        }
      ]
    }
  ]
}